{
 "cells": [
  {
   "cell_type": "code",
   "execution_count": 1,
   "metadata": {
    "collapsed": true
   },
   "outputs": [],
   "source": [
    "import numpy as np\n",
    "import matplotlib.pyplot as plt\n",
    "import matplotlib\n",
    "matplotlib.style.use('ggplot')\n",
    "#%matplotlib notebook            # Intractive plots\n",
    "%matplotlib inline"
   ]
  },
  {
   "cell_type": "markdown",
   "metadata": {},
   "source": [
    "# Importing and transforming the data"
   ]
  },
  {
   "cell_type": "code",
   "execution_count": 2,
   "metadata": {
    "collapsed": true
   },
   "outputs": [],
   "source": [
    "filename_1 = 'ex1data1.txt'      # Dataset for simple linear regression\n",
    "filename_2 = 'ex1data2.txt'      # Dataset for multiple linear regression"
   ]
  },
  {
   "cell_type": "code",
   "execution_count": 3,
   "metadata": {
    "collapsed": false
   },
   "outputs": [],
   "source": [
    "# Load the data as numpy array\n",
    "data_1 = np.loadtxt(filename_1, delimiter = ',')     # Dataset for simple linear regression\n",
    "data_2 = np.loadtxt(filename_2, delimiter = ',')     # Dataset for multiple linear regression"
   ]
  },
  {
   "cell_type": "markdown",
   "metadata": {},
   "source": [
    "# 1 Simple Linear Regression\n",
    "## 1.a. Splitting the data into dependent (X) and independent (y) variables \n",
    "1. To account for intercept in the model we have to add a vector of ones to X to perform matrix operations on it.\n",
    "2. To make the resulting numpy array 2-dimensional we have to pay attention to subsetting. To choose the last column corresponding to vector y use 'data[:, -1:]' which returns 2-dimensional array instead of data[:, -1], whcih returns 1-dimensional array."
   ]
  },
  {
   "cell_type": "code",
   "execution_count": 4,
   "metadata": {
    "collapsed": false
   },
   "outputs": [
    {
     "name": "stdout",
     "output_type": "stream",
     "text": [
      "(97, 2)\n"
     ]
    }
   ],
   "source": [
    "# Splitting the data into dependent (X) and independent (y) variables \n",
    "\n",
    "X = np.insert(data_1[:, :-1], 0, 1, axis = 1)\n",
    "y = data_1[:, -1:]\n",
    "sampleSize, numThetas = X.shape\n",
    "print(X.shape)"
   ]
  },
  {
   "cell_type": "markdown",
   "metadata": {},
   "source": [
    "## 1.b. Visualizing the data"
   ]
  },
  {
   "cell_type": "code",
   "execution_count": 5,
   "metadata": {
    "collapsed": false,
    "scrolled": false
   },
   "outputs": [
    {
     "data": {
      "image/png": "[encoded data removed]",
      "text/plain": [
       "<matplotlib.figure.Figure at 0x1cdcb6cf080>"
      ]
     },
     "metadata": {},
     "output_type": "display_data"
    }
   ],
   "source": [
    "# Visualize the data (simple linear regression only!)\n",
    "plt.scatter(X[:,1],y, c= 'red', marker = 'x')\n",
    "plt.xlabel('Population of City in 10,000s')\n",
    "plt.ylabel('Profit in $10,000s')\n",
    "plt.title('Scatter plot of training data')\n",
    "plt.show()"
   ]
  },
  {
   "cell_type": "markdown",
   "metadata": {},
   "source": [
    "## 1.c. Gradient Descent: defining functions  "
   ]
  },
  {
   "cell_type": "code",
   "execution_count": 20,
   "metadata": {
    "collapsed": true
   },
   "outputs": [],
   "source": [
    "def computeCost(theta, X, y):\n",
    "    J = np.sum((np.dot(X, theta) - y)**2)/(2*sampleSize)\n",
    "    return J\n",
    "    \n",
    "def gradientDescent(theta, X, y, alpha, iterations):\n",
    "    J_history = []\n",
    "    for i in range(iterations):\n",
    "        J_history += [computeCost(theta, X, y)]\n",
    "        theta = theta - alpha / sampleSize * np.dot(X.T, (np.dot(X, theta) - y))\n",
    "        #J_history += [computeCost(theta, X, y)]\n",
    "    return theta, J_history\n",
    "\n",
    "def gradientDescent2(theta, X, y, alpha, iterations):\n",
    "    J_history = []\n",
    "    for i in range(iterations):\n",
    "        J_history += [computeCost(theta, X, y)]\n",
    "        for j in range(numThetas):\n",
    "            theta_temp = theta[j] - alpha / sampleSize * np.dot((np.dot(X, theta) - y), X[:,j].reshape(1,numThetas))\n",
    "            theta[j] = theta_temp\n",
    "    return theta, J_history\n",
    "    \n",
    "def selectLearningRate(X, y, alphas):\n",
    "    iterations = 50\n",
    "    for i in alphas:\n",
    "        alpha = i\n",
    "        cost = gradientDescent(theta, X, y, alpha, iterations)[1]\n",
    "        #print(cost)\n",
    "        plt.plot(range(iterations), cost, label = str(i))\n",
    "    plt.xlabel('Iterations')\n",
    "    plt.ylabel('Cost')\n",
    "    plt.title('Learning Rates (alpha)')\n",
    "    plt.legend(loc = 'upper right', title = 'alpha')\n",
    "    plt.show()"
   ]
  },
  {
   "cell_type": "markdown",
   "metadata": {},
   "source": [
    "## 1.d. Initializing fitting parameters (thetas) and testing the cost function"
   ]
  },
  {
   "cell_type": "code",
   "execution_count": 7,
   "metadata": {
    "collapsed": false
   },
   "outputs": [
    {
     "name": "stdout",
     "output_type": "stream",
     "text": [
      "(2, 1)\n",
      "0.0\n"
     ]
    },
    {
     "data": {
      "text/plain": [
       "32.07"
      ]
     },
     "execution_count": 7,
     "metadata": {},
     "output_type": "execute_result"
    }
   ],
   "source": [
    "# Initilize fitting parameters\n",
    "theta = np.zeros((numThetas,1))\n",
    "print(theta.shape)\n",
    "print(theta[0][0])\n",
    "\n",
    "# Test computeCost function. Expected output value: 32.07\n",
    "round(computeCost(theta, X, y), 2) "
   ]
  },
  {
   "cell_type": "markdown",
   "metadata": {},
   "source": [
    "## 1.e. Selecting the learning rate 'alpha'\n",
    " - To choose appropriate alpha one can try: 0.001, 0.003, 0.01, 0.03...and so on.<br>\n",
    " - Cost should decrease after very iteraton. If increases, probably the alpha is too big and GD diverges.\n",
    "\n",
    "In this example alpha = 0.03 is already too big and causes divergence-problem.\n",
    "We can see from the plot below that three different alphas we try demonstrate good results (quick convergence: finding the minimum of the cost function), whereas with alpha = 0.01 convergence is the quickest. "
   ]
  },
  {
   "cell_type": "code",
   "execution_count": 8,
   "metadata": {
    "collapsed": false
   },
   "outputs": [
    {
     "data": {
      "image/png": "[encoded data removed]",
      "text/plain": [
       "<matplotlib.figure.Figure at 0x1cdcbfa9978>"
      ]
     },
     "metadata": {},
     "output_type": "display_data"
    }
   ],
   "source": [
    "alphas = [0.001, 0.003, 0.01]\n",
    "selectLearningRate(X, y, alphas)"
   ]
  },
  {
   "cell_type": "markdown",
   "metadata": {},
   "source": [
    "## 1.f. Running GD and getting the regression parameters (thetas)"
   ]
  },
  {
   "cell_type": "code",
   "execution_count": 9,
   "metadata": {
    "collapsed": false
   },
   "outputs": [],
   "source": [
    "# Setting the alpha and number of iterations for GD\n",
    "alpha = 0.01\n",
    "iterations = 1500"
   ]
  },
  {
   "cell_type": "code",
   "execution_count": 21,
   "metadata": {
    "collapsed": false
   },
   "outputs": [
    {
     "ename": "ValueError",
     "evalue": "total size of new array must be unchanged",
     "output_type": "error",
     "traceback": [
      "\u001b[1;31m---------------------------------------------------------------------------\u001b[0m",
      "\u001b[1;31mValueError\u001b[0m                                Traceback (most recent call last)",
      "\u001b[1;32m<ipython-input-21-1846c14d8a40>\u001b[0m in \u001b[0;36m<module>\u001b[1;34m()\u001b[0m\n\u001b[1;32m----> 1\u001b[1;33m \u001b[0mthetaFit\u001b[0m\u001b[1;33m,\u001b[0m \u001b[0mJ_history\u001b[0m \u001b[1;33m=\u001b[0m \u001b[0mgradientDescent2\u001b[0m\u001b[1;33m(\u001b[0m\u001b[0mtheta\u001b[0m\u001b[1;33m,\u001b[0m \u001b[0mX\u001b[0m\u001b[1;33m,\u001b[0m \u001b[0my\u001b[0m\u001b[1;33m,\u001b[0m \u001b[0malpha\u001b[0m\u001b[1;33m,\u001b[0m \u001b[0miterations\u001b[0m\u001b[1;33m)\u001b[0m\u001b[1;33m\u001b[0m\u001b[0m\n\u001b[0m\u001b[0;32m      2\u001b[0m \u001b[1;31m#print('theta_initial_0 = ' + str(round(theta[0][0], 2))\u001b[0m\u001b[1;33m\u001b[0m\u001b[1;33m\u001b[0m\u001b[0m\n\u001b[0;32m      3\u001b[0m \u001b[1;31m#     + '\\ntheta_initial_1 = ' + str(round(theta[1][0], 2)))\u001b[0m\u001b[1;33m\u001b[0m\u001b[1;33m\u001b[0m\u001b[0m\n\u001b[0;32m      4\u001b[0m print('theta_0 = ' + str(round(thetaFit[0][0], 2)) \n\u001b[0;32m      5\u001b[0m     + '\\ntheta_1 = ' + str(round(thetaFit[1][0], 2)))\n",
      "\u001b[1;32m<ipython-input-20-05061ad48fef>\u001b[0m in \u001b[0;36mgradientDescent2\u001b[1;34m(theta, X, y, alpha, iterations)\u001b[0m\n\u001b[0;32m     16\u001b[0m         \u001b[0mJ_history\u001b[0m \u001b[1;33m+=\u001b[0m \u001b[1;33m[\u001b[0m\u001b[0mcomputeCost\u001b[0m\u001b[1;33m(\u001b[0m\u001b[0mtheta\u001b[0m\u001b[1;33m,\u001b[0m \u001b[0mX\u001b[0m\u001b[1;33m,\u001b[0m \u001b[0my\u001b[0m\u001b[1;33m)\u001b[0m\u001b[1;33m]\u001b[0m\u001b[1;33m\u001b[0m\u001b[0m\n\u001b[0;32m     17\u001b[0m         \u001b[1;32mfor\u001b[0m \u001b[0mj\u001b[0m \u001b[1;32min\u001b[0m \u001b[0mrange\u001b[0m\u001b[1;33m(\u001b[0m\u001b[0mnumThetas\u001b[0m\u001b[1;33m)\u001b[0m\u001b[1;33m:\u001b[0m\u001b[1;33m\u001b[0m\u001b[0m\n\u001b[1;32m---> 18\u001b[1;33m             \u001b[0mtheta_temp\u001b[0m \u001b[1;33m=\u001b[0m \u001b[0mtheta\u001b[0m\u001b[1;33m[\u001b[0m\u001b[0mj\u001b[0m\u001b[1;33m]\u001b[0m \u001b[1;33m-\u001b[0m \u001b[0malpha\u001b[0m \u001b[1;33m/\u001b[0m \u001b[0msampleSize\u001b[0m \u001b[1;33m*\u001b[0m \u001b[0mnp\u001b[0m\u001b[1;33m.\u001b[0m\u001b[0mdot\u001b[0m\u001b[1;33m(\u001b[0m\u001b[1;33m(\u001b[0m\u001b[0mnp\u001b[0m\u001b[1;33m.\u001b[0m\u001b[0mdot\u001b[0m\u001b[1;33m(\u001b[0m\u001b[0mX\u001b[0m\u001b[1;33m,\u001b[0m \u001b[0mtheta\u001b[0m\u001b[1;33m)\u001b[0m \u001b[1;33m-\u001b[0m \u001b[0my\u001b[0m\u001b[1;33m)\u001b[0m\u001b[1;33m,\u001b[0m \u001b[0mX\u001b[0m\u001b[1;33m[\u001b[0m\u001b[1;33m:\u001b[0m\u001b[1;33m,\u001b[0m\u001b[0mj\u001b[0m\u001b[1;33m]\u001b[0m\u001b[1;33m.\u001b[0m\u001b[0mreshape\u001b[0m\u001b[1;33m(\u001b[0m\u001b[1;36m1\u001b[0m\u001b[1;33m,\u001b[0m\u001b[0mnumThetas\u001b[0m\u001b[1;33m)\u001b[0m\u001b[1;33m)\u001b[0m\u001b[1;33m\u001b[0m\u001b[0m\n\u001b[0m\u001b[0;32m     19\u001b[0m             \u001b[0mtheta\u001b[0m\u001b[1;33m[\u001b[0m\u001b[0mj\u001b[0m\u001b[1;33m]\u001b[0m \u001b[1;33m=\u001b[0m \u001b[0mtheta_temp\u001b[0m\u001b[1;33m\u001b[0m\u001b[0m\n\u001b[0;32m     20\u001b[0m     \u001b[1;32mreturn\u001b[0m \u001b[0mtheta\u001b[0m\u001b[1;33m,\u001b[0m \u001b[0mJ_history\u001b[0m\u001b[1;33m\u001b[0m\u001b[0m\n",
      "\u001b[1;31mValueError\u001b[0m: total size of new array must be unchanged"
     ]
    }
   ],
   "source": [
    "thetaFit, J_history = gradientDescent2(theta, X, y, alpha, iterations)\n",
    "#print('theta_initial_0 = ' + str(round(theta[0][0], 2)) \n",
    "#     + '\\ntheta_initial_1 = ' + str(round(theta[1][0], 2)))\n",
    "print('theta_0 = ' + str(round(thetaFit[0][0], 2)) \n",
    "    + '\\ntheta_1 = ' + str(round(thetaFit[1][0], 2)))"
   ]
  },
  {
   "cell_type": "markdown",
   "metadata": {},
   "source": [
    "## 1.g. Visualization of the cost function and linear regression fit"
   ]
  },
  {
   "cell_type": "code",
   "execution_count": 65,
   "metadata": {
    "collapsed": false
   },
   "outputs": [],
   "source": [
    "def visualizeConvergence(iterations, J_history):\n",
    "    '''\n",
    "    Visualize how the convergence of cost function to its minimum \n",
    "    Takes in number of iterations and vector of cost function values for each \n",
    "    iteration (cost function history)\n",
    "    '''\n",
    "    #plt.plot(range(iterations), J_history)\n",
    "    plt.plot(range(50), J_history[:50])\n",
    "    plt.xlabel('Iterations')\n",
    "    plt.ylabel('Cost J')\n",
    "    plt.show()\n",
    "\n",
    "def visualizeRegression():\n",
    "    plt.scatter(X[:,1], y, c= 'red', marker = 'x')\n",
    "    plt.plot(X[:,1], np.dot(X, thetaFit), color = 'blue')\n",
    "    #plt.xlim(min(X[:,1]), max(X[:,1]))\n",
    "    plt.xlabel('Population of City in 10,000s')\n",
    "    plt.ylabel('Profit in $10,000s')\n",
    "    plt.title('Profits by population')\n",
    "    plt.show()"
   ]
  },
  {
   "cell_type": "code",
   "execution_count": 66,
   "metadata": {
    "collapsed": false
   },
   "outputs": [
    {
     "data": {
      "image/png": "[encoded data removed]",
      "text/plain": [
       "<matplotlib.figure.Figure at 0x20733db3438>"
      ]
     },
     "metadata": {},
     "output_type": "display_data"
    }
   ],
   "source": [
    "visualizeConvergence(iterations, J_history)"
   ]
  },
  {
   "cell_type": "code",
   "execution_count": 67,
   "metadata": {
    "collapsed": false,
    "scrolled": true
   },
   "outputs": [
    {
     "data": {
      "image/png": "[encoded data removed]",
      "text/plain": [
       "<matplotlib.figure.Figure at 0x207328be860>"
      ]
     },
     "metadata": {},
     "output_type": "display_data"
    }
   ],
   "source": [
    "visualizeRegression()"
   ]
  },
  {
   "cell_type": "markdown",
   "metadata": {},
   "source": [
    "## 1.h. Making predictions based on new thetas"
   ]
  },
  {
   "cell_type": "code",
   "execution_count": 14,
   "metadata": {
    "collapsed": false
   },
   "outputs": [
    {
     "name": "stdout",
     "output_type": "stream",
     "text": [
      "Predicted profit for a city with population of 3.5 is 0.45\n",
      "Predicted profit for a city with population of 7 is 4.53\n"
     ]
    }
   ],
   "source": [
    "point1 = np.array((1, 3.5)).reshape(1,2)\n",
    "point2 = np.array((1, 7)).reshape(1,2)\n",
    "predict1 = np.dot(point1,thetaFit)\n",
    "predict2 = np.dot(point2,thetaFit)\n",
    "print('Predicted profit for a city with population of ' +  str(point1[0][1]) + ' is ' + str(round(predict1[0][0], 2)))\n",
    "print('Predicted profit for a city with population of ' +  str(point2[0][1]) + ' is ' + str(round(predict2[0][0], 2)))"
   ]
  },
  {
   "cell_type": "markdown",
   "metadata": {},
   "source": [
    "# 2 Multiple linear regression"
   ]
  },
  {
   "cell_type": "markdown",
   "metadata": {},
   "source": [
    "## 2.a. Splitting the data into dependent (X) and independent (y) variables"
   ]
  },
  {
   "cell_type": "code",
   "execution_count": 80,
   "metadata": {
    "collapsed": false
   },
   "outputs": [
    {
     "name": "stdout",
     "output_type": "stream",
     "text": [
      "(47, 3)\n",
      "(47, 1)\n",
      "[[  1.00000000e+00   2.10400000e+03   3.00000000e+00]\n",
      " [  1.00000000e+00   1.60000000e+03   3.00000000e+00]\n",
      " [  1.00000000e+00   2.40000000e+03   3.00000000e+00]\n",
      " [  1.00000000e+00   1.41600000e+03   2.00000000e+00]\n",
      " [  1.00000000e+00   3.00000000e+03   4.00000000e+00]]\n",
      "[[ 399900.]\n",
      " [ 329900.]\n",
      " [ 369000.]\n",
      " [ 232000.]\n",
      " [ 539900.]]\n"
     ]
    }
   ],
   "source": [
    "X = np.insert(data_2[:, :-1], 0, 1, axis = 1)\n",
    "y = data_2[:, -1:]\n",
    "sampleSize, numThetas = X.shape\n",
    "print(X.shape)\n",
    "print(y.shape)\n",
    "print(np.round(X[:5, :], decimals = 2))\n",
    "print(y[:5, :])"
   ]
  },
  {
   "cell_type": "markdown",
   "metadata": {},
   "source": [
    "## 2.b. Feature normalization"
   ]
  },
  {
   "cell_type": "code",
   "execution_count": 81,
   "metadata": {
    "collapsed": true
   },
   "outputs": [],
   "source": [
    "def normalize(X):\n",
    "    copy = X.copy()\n",
    "    if X.shape[1] <= 1:    \n",
    "        for i in range(X.shape[1]):\n",
    "            copy[:,i] = (X[:,i] - np.mean(X[:,i])) / np.std(X[:,i])\n",
    "    else:\n",
    "        for i in range(1, X.shape[1]):\n",
    "            copy[:,i] = (X[:,i] - np.mean(X[:,i])) / np.std(X[:,i])\n",
    "    return copy"
   ]
  },
  {
   "cell_type": "code",
   "execution_count": 88,
   "metadata": {
    "collapsed": false
   },
   "outputs": [
    {
     "name": "stdout",
     "output_type": "stream",
     "text": [
      "0\n",
      "[[ 1.          0.13141542 -0.22609337]\n",
      " [ 1.         -0.5096407  -0.22609337]\n",
      " [ 1.          0.5079087  -0.22609337]\n",
      " [ 1.         -0.74367706 -1.5543919 ]\n",
      " [ 1.          1.27107075  1.10220517]]\n",
      "[[ 0.48089023]\n",
      " [-0.08498338]\n",
      " [ 0.23109745]\n",
      " [-0.87639804]\n",
      " [ 1.61263744]]\n"
     ]
    }
   ],
   "source": [
    "norm_X = normalize(X)\n",
    "norm_y = normalize(y)\n",
    "\n",
    "print(norm_X[:5,:])\n",
    "print(norm_y[:5,:])\n"
   ]
  },
  {
   "cell_type": "markdown",
   "metadata": {},
   "source": [
    "## 2.c. Initializing fitting parameters (thetas) and testing the cost function"
   ]
  },
  {
   "cell_type": "code",
   "execution_count": 89,
   "metadata": {
    "collapsed": false
   },
   "outputs": [
    {
     "data": {
      "text/plain": [
       "0.5"
      ]
     },
     "execution_count": 89,
     "metadata": {},
     "output_type": "execute_result"
    }
   ],
   "source": [
    "# Initilize fitting parameters\n",
    "theta = np.zeros((numThetas,1))\n",
    "\n",
    "# Checking the cost with the initial set of thetas\n",
    "computeCost(theta, norm_X, norm_y)"
   ]
  },
  {
   "cell_type": "markdown",
   "metadata": {},
   "source": [
    "## 2.d Selecting the learning rate alpha"
   ]
  },
  {
   "cell_type": "code",
   "execution_count": 90,
   "metadata": {
    "collapsed": false
   },
   "outputs": [
    {
     "data": {
      "image/png": "[encoded data removed]",
      "text/plain": [
       "<matplotlib.figure.Figure at 0x20732c95668>"
      ]
     },
     "metadata": {},
     "output_type": "display_data"
    }
   ],
   "source": [
    "alphas = [0.001, 0.003, 0.01, 0.03, 0.1, 0.3]\n",
    "selectLearningRate(norm_X, norm_y, alphas)"
   ]
  },
  {
   "cell_type": "markdown",
   "metadata": {
    "collapsed": false
   },
   "source": [
    "## 2.e. Running GD and getting the regression parameters (thetas)"
   ]
  },
  {
   "cell_type": "code",
   "execution_count": 91,
   "metadata": {
    "collapsed": true
   },
   "outputs": [],
   "source": [
    "# Setting the alpha and number of iterations for GD\n",
    "alpha = 0.03\n",
    "iterations = 1500"
   ]
  },
  {
   "cell_type": "code",
   "execution_count": 98,
   "metadata": {
    "collapsed": false
   },
   "outputs": [
    {
     "data": {
      "image/png": "[encoded data removed]",
      "text/plain": [
       "<matplotlib.figure.Figure at 0x20732ab1b38>"
      ]
     },
     "metadata": {},
     "output_type": "display_data"
    },
    {
     "name": "stdout",
     "output_type": "stream",
     "text": [
      "theta_0 = -0.0\n",
      "theta_1 = 0.88\n",
      "theta_2 = -0.05\n"
     ]
    }
   ],
   "source": [
    "# Running the GD and visualizing convergence\n",
    "thetaFit, J_history = gradientDescent(theta, norm_X, norm_y, alpha, iterations)\n",
    "visualizeConvergence(iterations, J_history)\n",
    "\n",
    "print('theta_0 = ' + str(round(thetaFit[0][0], 2)) \n",
    "    + '\\ntheta_1 = ' + str(round(thetaFit[1][0], 2))\n",
    "    + '\\ntheta_2 = ' + str(round(thetaFit[2][0], 2)))"
   ]
  },
  {
   "cell_type": "markdown",
   "metadata": {},
   "source": [
    "## 2.f. Making predictions based on new thetas"
   ]
  },
  {
   "cell_type": "code",
   "execution_count": 94,
   "metadata": {
    "collapsed": false
   },
   "outputs": [
    {
     "name": "stdout",
     "output_type": "stream",
     "text": [
      "[[-0.38262106]]\n"
     ]
    }
   ],
   "source": [
    "# Prediction for an object with 1650 square feet and 3 rooms\n",
    "# Normalization of features\n",
    "size = (1650 - np.mean(X[:,1])) / np.std(X[:,1])\n",
    "rooms = (3 - np.mean(X[:,2])) / np.std(X[:,2])\n",
    "point = np.array((1, size, rooms)).reshape(1,3)\n",
    "predict = np.dot(point, thetaFit)\n",
    "print(predict)\n",
    "      "
   ]
  },
  {
   "cell_type": "markdown",
   "metadata": {},
   "source": [
    "## Normal Equations"
   ]
  },
  {
   "cell_type": "code",
   "execution_count": 95,
   "metadata": {
    "collapsed": false
   },
   "outputs": [
    {
     "name": "stdout",
     "output_type": "stream",
     "text": [
      "[[ 89597.9095428 ]\n",
      " [   139.21067402]\n",
      " [ -8738.01911233]]\n"
     ]
    }
   ],
   "source": [
    "thetaFitNormal = np.dot(np.dot(np.linalg.inv(np.dot(X.T, X)), X.T), y)\n",
    "print(thetaFitNormal)"
   ]
  },
  {
   "cell_type": "code",
   "execution_count": 100,
   "metadata": {
    "collapsed": false
   },
   "outputs": [
    {
     "name": "stdout",
     "output_type": "stream",
     "text": [
      "[[ 91511.42364342]]\n",
      "[[ 0.]\n",
      " [ 0.]\n",
      " [ 0.]]\n"
     ]
    }
   ],
   "source": [
    "# Prediction for an object with 1650 square feet and 3 rooms\n",
    "predict = np.dot(point, thetaFitNormal)\n",
    "print(predict)"
   ]
  }
 ],
 "metadata": {
  "anaconda-cloud": {},
  "kernelspec": {
   "display_name": "Python [Root]",
   "language": "python",
   "name": "Python [Root]"
  },
  "language_info": {
   "codemirror_mode": {
    "name": "ipython",
    "version": 3
   },
   "file_extension": ".py",
   "mimetype": "text/x-python",
   "name": "python",
   "nbconvert_exporter": "python",
   "pygments_lexer": "ipython3",
   "version": "3.5.2"
  }
 },
 "nbformat": 4,
 "nbformat_minor": 0
}
